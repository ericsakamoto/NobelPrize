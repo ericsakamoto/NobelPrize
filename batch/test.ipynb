{
 "metadata": {
  "language_info": {
   "codemirror_mode": {
    "name": "ipython",
    "version": 3
   },
   "file_extension": ".py",
   "mimetype": "text/x-python",
   "name": "python",
   "nbconvert_exporter": "python",
   "pygments_lexer": "ipython3",
   "version": "3.6.1-final"
  },
  "orig_nbformat": 2,
  "kernelspec": {
   "name": "Python 3.6.1 64-bit ('root': conda)",
   "display_name": "Python 3.6.1 64-bit ('root': conda)",
   "metadata": {
    "interpreter": {
     "hash": "56e8a5bb93c7304714f55761df171cd4b38d97e280a18ad1618233f86e8a55d6"
    }
   }
  }
 },
 "nbformat": 4,
 "nbformat_minor": 2,
 "cells": [
  {
   "cell_type": "code",
   "execution_count": 46,
   "metadata": {},
   "outputs": [],
   "source": [
    "import requests\n",
    "import json"
   ]
  },
  {
   "cell_type": "code",
   "execution_count": 89,
   "metadata": {
    "tags": []
   },
   "outputs": [
    {
     "output_type": "stream",
     "name": "stdout",
     "text": "[{'awardYear': '2018', 'category': {'en': 'Physics', 'no': 'Fysikk', 'se': 'Fysik'}, 'categoryFullName': {'en': 'The Nobel Prize in Physics', 'no': 'Nobelprisen i fysikk', 'se': 'Nobelpriset i fysik'}, 'dateAwarded': '2018-10-02', 'topMotivation': {'en': 'for groundbreaking inventions in the field of laser physics', 'se': 'för banbrytande uppfinningar inom laserfysik'}, 'prizeAmount': 9000000, 'prizeAmountAdjusted': 9000000, 'links': {'rel': 'nobelPrize', 'href': 'http://masterdataapi.nobelprize.org/2/nobelPrize/phy/2018', 'action': 'Get', 'types': 'application/json'}, 'laureates': [{'id': '960', 'knownName': {'en': 'Arthur Ashkin'}, 'portion': '1/2', 'sortOrder': '1', 'motivation': {'en': 'for the optical tweezers and their application to biological systems', 'se': 'för den optiska pincetten och dess tillämpning på biologiska system'}, 'links': {'rel': 'laureate', 'href': 'http://masterdataapi.nobelprize.org/2/laureate/960', 'action': 'Get', 'types': 'application/json'}}, {'id': '961', 'knownName': {'en': 'Gérard Mourou'}, 'portion': '1/4', 'sortOrder': '2', 'motivation': {'en': 'for their method of generating high-intensity, ultra-short optical pulses', 'se': 'för deras metod att alstra högintensiva, ultrakorta optiska pulser'}, 'links': {'rel': 'laureate', 'href': 'http://masterdataapi.nobelprize.org/2/laureate/961', 'action': 'Get', 'types': 'application/json'}}, {'id': '962', 'knownName': {'en': 'Donna Strickland'}, 'portion': '1/4', 'sortOrder': '3', 'motivation': {'en': 'for their method of generating high-intensity, ultra-short optical pulses', 'se': 'för deras metod att alstra högintensiva, ultrakorta optiska pulser'}, 'links': {'rel': 'laureate', 'href': 'http://masterdataapi.nobelprize.org/2/laureate/962', 'action': 'Get', 'types': 'application/json'}}]}]\n"
    }
   ],
   "source": [
    "response = requests.get('http://api.nobelprize.org/2.0/nobelPrize/phy/2018')\n",
    "print(response.json())"
   ]
  },
  {
   "cell_type": "code",
   "execution_count": 84,
   "metadata": {
    "tags": []
   },
   "outputs": [
    {
     "output_type": "stream",
     "name": "stdout",
     "text": "2000\nPhysics\nThe Nobel Prize in Physics\nfor basic work on information and communication technology\n726\nZhores Alferov\nfor developing semiconductor heterostructures used in high-speed- and opto-electronics\n727\nHerbert Kroemer\nfor developing semiconductor heterostructures used in high-speed- and opto-electronics\n728\nJack Kilby\nfor his part in the invention of the integrated circuit\n"
    }
   ],
   "source": [
    "prizes = response.json()\n",
    "for prize in prizes:\n",
    "    print(prize['awardYear'])\n",
    "    print(prize['category']['en'])\n",
    "    print(prize['categoryFullName']['en'])\n",
    "    print(prize['topMotivation']['en'])\n",
    "    laureates = prize['laureates']\n",
    "    for laureate in laureates:\n",
    "        print(laureate['id'])\n",
    "        print(laureate['knownName']['en'])\n",
    "        print(laureate['motivation']['en'])\n"
   ]
  },
  {
   "cell_type": "code",
   "execution_count": 85,
   "metadata": {
    "tags": []
   },
   "outputs": [
    {
     "output_type": "stream",
     "name": "stdout",
     "text": "[{'id': '726', 'knownName': {'en': 'Zhores Alferov', 'se': 'Zhores Alferov'}, 'givenName': {'en': 'Zhores', 'se': 'Zhores'}, 'familyName': {'en': 'Alferov', 'se': 'Alferov'}, 'fullName': {'en': 'Zhores I. Alferov', 'se': 'Zhores I. Alferov'}, 'gender': 'male', 'birth': {'date': '1930-03-15', 'place': {'city': {'en': 'Vitebsk, Belorussia', 'no': 'Vitebsk, Hviterussland', 'se': 'Vitebsk, Vitryssland'}, 'country': {'en': 'USSR', 'no': 'Sovjet', 'se': 'Sovjetunionen'}, 'cityNow': {'en': 'Vitebsk, Belorussia', 'no': 'Vitebsk, Hviterussland', 'se': 'Vitebsk, Vitryssland'}, 'countryNow': {'en': 'Belarus', 'no': 'Hviterussland', 'se': 'Vitryssland'}, 'continent': {'en': 'Europe'}, 'locationString': {'en': 'Vitebsk, Belorussia, USSR (now Belarus)', 'no': 'Vitebsk, Hviterussland, Sovjet (nå Hviterussland)', 'se': 'Vitebsk, Vitryssland, Sovjetunionen (nu Vitryssland)'}}}, 'death': {'date': '2019-03-01', 'place': {'city': {'en': 'St. Petersburg', 'no': 'St. Petersburg', 'se': 'St. Petersburg'}, 'country': {'en': 'Russia', 'no': 'Russland', 'se': 'Ryssland'}, 'cityNow': {'en': 'St. Petersburg', 'no': 'St. Petersburg', 'se': 'St. Petersburg'}, 'countryNow': {'en': 'Russia', 'no': 'Russland', 'se': 'Ryssland'}, 'continent': {'en': 'Europe'}, 'locationString': {'en': 'St. Petersburg, Russia', 'no': 'St. Petersburg, Russland', 'se': 'St. Petersburg, Ryssland'}}}, 'links': {'rel': 'laureate', 'href': 'http://masterdataapi.nobelprize.org/2/laureate/726', 'action': 'Get', 'types': 'application/json'}, 'nobelPrizes': [{'awardYear': '2000', 'category': {'en': 'Physics', 'no': 'Fysikk', 'se': 'Fysik'}, 'categoryFullName': {'en': 'The Nobel Prize in Physics', 'no': 'Nobelprisen i fysikk', 'se': 'Nobelpriset i fysik'}, 'topMotivation': {'en': 'for basic work on information and communication technology'}, 'sortOrder': '1', 'portion': '1/4', 'dateAwarded': '2000-10-10', 'prizeStatus': 'received', 'motivation': {'en': 'for developing semiconductor heterostructures used in high-speed- and opto-electronics', 'se': 'för utvecklingen av halvledarheterostrukturer för höghastighets- och optoelektronik'}, 'prizeAmount': 9000000, 'prizeAmountAdjusted': 11333109, 'affiliations': [{'name': {'en': 'A.F. Ioffe Physico-Technical Institute', 'no': 'A.F. Ioffe Physico-Technical Institute', 'se': 'A.F. Ioffe Physico-Technical Institute'}, 'nameNow': {'en': 'A.F. Ioffe Physico-Technical Institute'}, 'city': {'en': 'St. Petersburg', 'no': 'St. Petersburg', 'se': 'St. Petersburg'}, 'country': {'en': 'Russia', 'no': 'Russland', 'se': 'Ryssland'}, 'cityNow': {'en': 'St. Petersburg', 'no': 'St. Petersburg', 'se': 'St. Petersburg'}, 'countryNow': {'en': 'Russia', 'no': 'Russland', 'se': 'Ryssland'}, 'locationString': {'en': 'St. Petersburg, Russia', 'no': 'St. Petersburg, Russland', 'se': 'St. Petersburg, Ryssland'}}], 'links': {'rel': 'nobelPrize', 'href': 'https://masterdataapi.nobelprize.org/2/nobelPrize/phy/2000', 'action': 'Get', 'types': 'application/json'}}]}]\n"
    }
   ],
   "source": [
    "physicist = requests.get('http://api.nobelprize.org/2.0/laureate/726')\n",
    "print(physicist.json())\n"
   ]
  },
  {
   "cell_type": "code",
   "execution_count": null,
   "metadata": {},
   "outputs": [],
   "source": []
  }
 ]
}